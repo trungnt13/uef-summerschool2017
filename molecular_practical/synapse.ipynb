{
 "cells": [
  {
   "cell_type": "markdown",
   "metadata": {},
   "source": [
    "# Synapse data download\n",
    "- About AMP-AD: https://www.synapse.org/#!Synapse:syn2580853/wiki/409846\n",
    "- MayoRNAseq https://www.synapse.org/#!Synapse:syn3163039"
   ]
  },
  {
   "cell_type": "code",
   "execution_count": null,
   "metadata": {
    "collapsed": false
   },
   "outputs": [],
   "source": [
    "source(\"http://depot.sagebase.org/CRAN.R\")\n",
    "pkgInstall(\"synapseClient\")\n",
    "library(synapseClient)"
   ]
  },
  {
   "cell_type": "markdown",
   "metadata": {},
   "source": [
    "Use your own credentials to log in"
   ]
  },
  {
   "cell_type": "code",
   "execution_count": null,
   "metadata": {
    "collapsed": false
   },
   "outputs": [],
   "source": [
    "synapseLogin(username = \"user\", password = \"passwd\", rememberMe = TRUE)"
   ]
  },
  {
   "cell_type": "markdown",
   "metadata": {},
   "source": [
    "Once logged in, you can download data by synapse ID"
   ]
  },
  {
   "cell_type": "code",
   "execution_count": null,
   "metadata": {
    "collapsed": false
   },
   "outputs": [],
   "source": [
    "geneCounts.Formal <- synGet(\"syn4650257\", downloadLocation = \"./\")\n",
    "geneCounts <- read.delim(geneCounts.Formal@filePath, stringsAsFactors = F)\n",
    "anno.Formal <- synGet(\"syn3817650\", downloadLocation = \"./\")\n",
    "anno <- read.delim(anno.Formal@filePath, stringsAsFactors = F)"
   ]
  },
  {
   "cell_type": "code",
   "execution_count": null,
   "metadata": {
    "collapsed": false
   },
   "outputs": [],
   "source": [
    "head(anno)\n",
    "geneCounts[1:5,1:5]"
   ]
  }
 ],
 "metadata": {
  "kernelspec": {
   "display_name": "R",
   "language": "R",
   "name": "ir"
  },
  "language_info": {
   "codemirror_mode": "r",
   "file_extension": ".r",
   "mimetype": "text/x-r-source",
   "name": "R",
   "pygments_lexer": "r",
   "version": "3.3.1"
  }
 },
 "nbformat": 4,
 "nbformat_minor": 1
}
