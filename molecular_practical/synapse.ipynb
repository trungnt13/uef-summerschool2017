{
 "cells": [
  {
   "cell_type": "markdown",
   "metadata": {},
   "source": [
    "# Synapse data download\n",
    "- About AMP-AD: https://www.synapse.org/#!Synapse:syn2580853/wiki/409846\n",
    "- MayoRNAseq https://www.synapse.org/#!Synapse:syn3163039"
   ]
  },
  {
   "cell_type": "code",
   "execution_count": null,
   "metadata": {
    "collapsed": false
   },
   "outputs": [],
   "source": [
    "source(\"http://depot.sagebase.org/CRAN.R\")\n",
    "pkgInstall(\"synapseClient\")\n",
    "library(synapseClient)"
   ]
  },
  {
   "cell_type": "markdown",
   "metadata": {},
   "source": [
    "Use your own credentials to log in"
   ]
  },
  {
   "cell_type": "code",
   "execution_count": null,
   "metadata": {
    "collapsed": false
   },
   "outputs": [],
   "source": [
    "synapseLogin(username = \"user\", password = \"passwd\", rememberMe = TRUE)"
   ]
  },
  {
   "cell_type": "markdown",
   "metadata": {},
   "source": [
    "Once logged in, you can download data by synapse ID"
   ]
  },
  {
   "cell_type": "code",
   "execution_count": null,
   "metadata": {
    "collapsed": false
   },
   "outputs": [],
   "source": [
    "geneCounts.Formal <- synGet(\"syn4650257\", downloadLocation = \"./\")\n",
    "geneCounts <- read.delim(geneCounts.Formal@filePath, stringsAsFactors = F)\n",
    "anno.Formal <- synGet(\"syn3817650\", downloadLocation = \"./\")\n",
    "anno <- read.delim(anno.Formal@filePath, stringsAsFactors = F)"
   ]
  },
  {
   "cell_type": "markdown",
   "metadata": {},
   "source": [
    "Let's see how the data objects look like"
   ]
  },
  {
   "cell_type": "code",
   "execution_count": null,
   "metadata": {
    "collapsed": false
   },
   "outputs": [],
   "source": [
    "head(anno)\n",
    "geneCounts[1:5,1:5]"
   ]
  },
  {
   "cell_type": "markdown",
   "metadata": {
    "collapsed": false
   },
   "source": [
    "## Function to convert Ensembl IDs to gene symbols"
   ]
  },
  {
   "cell_type": "markdown",
   "metadata": {},
   "source": [
    "Install and load required packages"
   ]
  },
  {
   "cell_type": "code",
   "execution_count": null,
   "metadata": {
    "collapsed": false
   },
   "outputs": [],
   "source": [
    "source(\"http://bioconductor.org/biocLite.R\")\n",
    "library(biomaRt)"
   ]
  },
  {
   "cell_type": "markdown",
   "metadata": {},
   "source": [
    "This function assumes that ensembl IDs are in rownames of data matrix. Duplicate rows with same gene symbol are removed by leaving the one with the most counts."
   ]
  },
  {
   "cell_type": "code",
   "execution_count": null,
   "metadata": {
    "collapsed": false
   },
   "outputs": [],
   "source": [
    "ensembl_id_to_gene_symbol <- function(data) {\n",
    "    ensembl <- useMart(\"ensembl\", dataset = \"hsapiens_gene_ensembl\")\n",
    "    genes <- getBM(attributes = c(\"ensembl_gene_id\", \"external_gene_name\"),\n",
    "                  filters = \"ensembl_gene_id\",\n",
    "                  values = rownames(data),\n",
    "                  mart = ensembl)\n",
    "    data <- data[rownames(data)%in%genes[,1],]\n",
    "    data <- data[order(rowSums(data), decreasing = T),]\n",
    "    genes <- genes[match(rownames(data), genes[,1]),]\n",
    "    dupl <- duplicated(genes[,2])\n",
    "    data <- data[!dupl,]\n",
    "    genes <- genes[!dupl,]\n",
    "    rownames(data) <- genes[,2]\n",
    "    return(data)\n",
    "}"
   ]
  },
  {
   "cell_type": "markdown",
   "metadata": {},
   "source": [
    "From _geneCounts_ move ensembl IDs from 1st column to rownames."
   ]
  },
  {
   "cell_type": "code",
   "execution_count": null,
   "metadata": {
    "collapsed": false
   },
   "outputs": [],
   "source": [
    "rownames(geneCounts) <- geneCounts[,1]\n",
    "geneCounts <- geneCounts[,-1]\n",
    "geneCounts[1:5,1:5]"
   ]
  },
  {
   "cell_type": "markdown",
   "metadata": {},
   "source": [
    "Now convert ensembl IDs to symbols"
   ]
  },
  {
   "cell_type": "code",
   "execution_count": null,
   "metadata": {
    "collapsed": false
   },
   "outputs": [],
   "source": [
    "geneCounts <- ensembl_id_to_gene_symbol(geneCounts)\n",
    "geneCounts[1:5,1:5]"
   ]
  }
 ],
 "metadata": {
  "kernelspec": {
   "display_name": "R",
   "language": "R",
   "name": "ir"
  },
  "language_info": {
   "codemirror_mode": "r",
   "file_extension": ".r",
   "mimetype": "text/x-r-source",
   "name": "R",
   "pygments_lexer": "r",
   "version": "3.3.1"
  }
 },
 "nbformat": 4,
 "nbformat_minor": 1
}
