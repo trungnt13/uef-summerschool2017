{
 "cells": [
  {
   "cell_type": "markdown",
   "metadata": {},
   "source": [
    "# Synapse data download\n",
    "- About AMP-AD: https://www.synapse.org/#!Synapse:syn2580853/wiki/409846\n",
    "- MayoRNAseq https://www.synapse.org/#!Synapse:syn3163039"
   ]
  },
  {
   "cell_type": "code",
   "execution_count": 1,
   "metadata": {
    "collapsed": false
   },
   "outputs": [
    {
     "name": "stderr",
     "output_type": "stream",
     "text": [
      "also installing the dependency ‘rjson’\n",
      "\n",
      "Updating HTML index of packages in '.Library'\n",
      "Making 'packages.html' ... done\n",
      "\n",
      "TERMS OF USE NOTICE:\n",
      "    When using Synapse, remember that the terms and conditions of use require that you:\n",
      "    1) Attribute data contributors when discussing these data or results from these data.\n",
      "    2) Not discriminate, identify, or recontact individuals or groups represented by the data.\n",
      "    3) Use and contribute only data de-identified to HIPAA standards.\n",
      "    4) Redistribute data only under these same terms of use.\n",
      "\n"
     ]
    }
   ],
   "source": [
    "source(\"http://depot.sagebase.org/CRAN.R\")\n",
    "pkgInstall(\"synapseClient\")\n",
    "library(synapseClient)"
   ]
  },
  {
   "cell_type": "markdown",
   "metadata": {},
   "source": [
    "Use your own credentials to log in"
   ]
  },
  {
   "cell_type": "code",
   "execution_count": 3,
   "metadata": {
    "collapsed": false
   },
   "outputs": [
    {
     "name": "stderr",
     "output_type": "stream",
     "text": [
      "Goodbye.\n",
      "Welcome jmehtone!\n"
     ]
    }
   ],
   "source": [
    "synapseLogin(username = \"jmehtone\", password = \"4gxtxt6f\", rememberMe = TRUE)"
   ]
  },
  {
   "cell_type": "markdown",
   "metadata": {},
   "source": [
    "Once logged in, you can download data by synapse ID"
   ]
  },
  {
   "cell_type": "code",
   "execution_count": 4,
   "metadata": {
    "collapsed": false
   },
   "outputs": [],
   "source": [
    "geneCounts.Formal <- synGet(\"syn4650257\", downloadLocation = \"./\")\n",
    "geneCounts <- read.delim(geneCounts.Formal@filePath, stringsAsFactors = F)\n",
    "anno.Formal <- synGet(\"syn3817650\", downloadLocation = \"./\")\n",
    "anno <- read.delim(anno.Formal@filePath, stringsAsFactors = F)"
   ]
  },
  {
   "cell_type": "markdown",
   "metadata": {},
   "source": [
    "Let's see how the data objects look like"
   ]
  },
  {
   "cell_type": "code",
   "execution_count": 5,
   "metadata": {
    "collapsed": false
   },
   "outputs": [
    {
     "data": {
      "text/html": [
       "<table>\n",
       "<thead><tr><th></th><th scope=col>ID</th><th scope=col>Source</th><th scope=col>Tissue</th><th scope=col>RIN</th><th scope=col>Diagnosis</th><th scope=col>Gender</th><th scope=col>AgeAtDeath</th><th scope=col>ApoE</th><th scope=col>FLOWCELL</th><th scope=col>PMI</th></tr></thead>\n",
       "<tbody>\n",
       "\t<tr><th scope=row>1</th><td>11492_TCX            </td><td>MayoBrainBank_Dickson</td><td>TemporalCortex       </td><td>10                   </td><td>PSP                  </td><td>M                    </td><td>73                   </td><td>33                   </td><td>BC47ADACXX           </td><td>1                    </td></tr>\n",
       "\t<tr><th scope=row>2</th><td>6810_TCX             </td><td>MayoBrainBank_Dickson</td><td>TemporalCortex       </td><td>8                    </td><td>PSP                  </td><td>M                    </td><td>74                   </td><td>33                   </td><td>AC5R6PACXX           </td><td>1                    </td></tr>\n",
       "\t<tr><th scope=row>3</th><td>1046_TCX             </td><td>MayoBrainBank_Dickson</td><td>TemporalCortex       </td><td>9                    </td><td>AD                   </td><td>F                    </td><td>72                   </td><td>33                   </td><td>BC5RNRACXX           </td><td>2                    </td></tr>\n",
       "\t<tr><th scope=row>4</th><td>1924_TCX             </td><td>MayoBrainBank_Dickson</td><td>TemporalCortex       </td><td>5.6                  </td><td>Control              </td><td>F                    </td><td>90_or_above          </td><td>33                   </td><td>AC5R6PACXX           </td><td>2                    </td></tr>\n",
       "\t<tr><th scope=row>5</th><td>1926_TCX             </td><td>MayoBrainBank_Dickson</td><td>TemporalCortex       </td><td>7.8                  </td><td>Control              </td><td>F                    </td><td>88                   </td><td>33                   </td><td>AC44HKACXX           </td><td>2                    </td></tr>\n",
       "\t<tr><th scope=row>6</th><td>6913_TCX             </td><td>MayoBrainBank_Dickson</td><td>TemporalCortex       </td><td>8.3                  </td><td>PSP                  </td><td>F                    </td><td>79                   </td><td>33                   </td><td>AC44HKACXX           </td><td>2                    </td></tr>\n",
       "</tbody>\n",
       "</table>\n"
      ],
      "text/latex": [
       "\\begin{tabular}{r|llllllllll}\n",
       "  & ID & Source & Tissue & RIN & Diagnosis & Gender & AgeAtDeath & ApoE & FLOWCELL & PMI\\\\\n",
       "\\hline\n",
       "\t1 & 11492\\_TCX             & MayoBrainBank\\_Dickson & TemporalCortex          & 10                      & PSP                     & M                       & 73                      & 33                      & BC47ADACXX              & 1                      \\\\\n",
       "\t2 & 6810\\_TCX              & MayoBrainBank\\_Dickson & TemporalCortex          & 8                       & PSP                     & M                       & 74                      & 33                      & AC5R6PACXX              & 1                      \\\\\n",
       "\t3 & 1046\\_TCX              & MayoBrainBank\\_Dickson & TemporalCortex          & 9                       & AD                      & F                       & 72                      & 33                      & BC5RNRACXX              & 2                      \\\\\n",
       "\t4 & 1924\\_TCX              & MayoBrainBank\\_Dickson & TemporalCortex          & 5.6                     & Control                 & F                       & 90\\_or\\_above         & 33                      & AC5R6PACXX              & 2                      \\\\\n",
       "\t5 & 1926\\_TCX              & MayoBrainBank\\_Dickson & TemporalCortex          & 7.8                     & Control                 & F                       & 88                      & 33                      & AC44HKACXX              & 2                      \\\\\n",
       "\t6 & 6913\\_TCX              & MayoBrainBank\\_Dickson & TemporalCortex          & 8.3                     & PSP                     & F                       & 79                      & 33                      & AC44HKACXX              & 2                      \\\\\n",
       "\\end{tabular}\n"
      ],
      "text/plain": [
       "         ID                Source         Tissue  RIN Diagnosis Gender\n",
       "1 11492_TCX MayoBrainBank_Dickson TemporalCortex 10.0       PSP      M\n",
       "2  6810_TCX MayoBrainBank_Dickson TemporalCortex  8.0       PSP      M\n",
       "3  1046_TCX MayoBrainBank_Dickson TemporalCortex  9.0        AD      F\n",
       "4  1924_TCX MayoBrainBank_Dickson TemporalCortex  5.6   Control      F\n",
       "5  1926_TCX MayoBrainBank_Dickson TemporalCortex  7.8   Control      F\n",
       "6  6913_TCX MayoBrainBank_Dickson TemporalCortex  8.3       PSP      F\n",
       "   AgeAtDeath ApoE   FLOWCELL PMI\n",
       "1          73   33 BC47ADACXX   1\n",
       "2          74   33 AC5R6PACXX   1\n",
       "3          72   33 BC5RNRACXX   2\n",
       "4 90_or_above   33 AC5R6PACXX   2\n",
       "5          88   33 AC44HKACXX   2\n",
       "6          79   33 AC44HKACXX   2"
      ]
     },
     "metadata": {},
     "output_type": "display_data"
    },
    {
     "data": {
      "text/html": [
       "<table>\n",
       "<thead><tr><th></th><th scope=col>ensembl_id</th><th scope=col>X11344_TCX</th><th scope=col>X11316_TCX</th><th scope=col>X11431_TCX</th><th scope=col>X11341_TCX</th></tr></thead>\n",
       "<tbody>\n",
       "\t<tr><th scope=row>1</th><td>ENSG00000000003</td><td>428            </td><td>498            </td><td>652            </td><td>645            </td></tr>\n",
       "\t<tr><th scope=row>2</th><td>ENSG00000000005</td><td>5              </td><td>2              </td><td>5              </td><td>8              </td></tr>\n",
       "\t<tr><th scope=row>3</th><td>ENSG00000000419</td><td>921            </td><td>574            </td><td>844            </td><td>1105           </td></tr>\n",
       "\t<tr><th scope=row>4</th><td>ENSG00000000457</td><td>435            </td><td>237            </td><td>437            </td><td>608            </td></tr>\n",
       "\t<tr><th scope=row>5</th><td>ENSG00000000460</td><td>275            </td><td>212            </td><td>273            </td><td>391            </td></tr>\n",
       "</tbody>\n",
       "</table>\n"
      ],
      "text/latex": [
       "\\begin{tabular}{r|lllll}\n",
       "  & ensembl\\_id & X11344\\_TCX & X11316\\_TCX & X11431\\_TCX & X11341\\_TCX\\\\\n",
       "\\hline\n",
       "\t1 & ENSG00000000003 & 428             & 498             & 652             & 645            \\\\\n",
       "\t2 & ENSG00000000005 & 5               & 2               & 5               & 8              \\\\\n",
       "\t3 & ENSG00000000419 & 921             & 574             & 844             & 1105           \\\\\n",
       "\t4 & ENSG00000000457 & 435             & 237             & 437             & 608            \\\\\n",
       "\t5 & ENSG00000000460 & 275             & 212             & 273             & 391            \\\\\n",
       "\\end{tabular}\n"
      ],
      "text/plain": [
       "       ensembl_id X11344_TCX X11316_TCX X11431_TCX X11341_TCX\n",
       "1 ENSG00000000003        428        498        652        645\n",
       "2 ENSG00000000005          5          2          5          8\n",
       "3 ENSG00000000419        921        574        844       1105\n",
       "4 ENSG00000000457        435        237        437        608\n",
       "5 ENSG00000000460        275        212        273        391"
      ]
     },
     "metadata": {},
     "output_type": "display_data"
    }
   ],
   "source": [
    "head(anno)\n",
    "geneCounts[1:5,1:5]"
   ]
  },
  {
   "cell_type": "markdown",
   "metadata": {
    "collapsed": false
   },
   "source": [
    "## Function to convert Ensembl IDs to gene symbols"
   ]
  },
  {
   "cell_type": "markdown",
   "metadata": {},
   "source": [
    "Install and load required packages"
   ]
  },
  {
   "cell_type": "code",
   "execution_count": 8,
   "metadata": {
    "collapsed": false
   },
   "outputs": [
    {
     "name": "stderr",
     "output_type": "stream",
     "text": [
      "Bioconductor version 3.4 (BiocInstaller 1.24.0), ?biocLite for help\n",
      "A new version of Bioconductor is available after installing the most recent\n",
      "  version of R; see http://bioconductor.org/install\n",
      "BioC_mirror: https://bioconductor.org\n",
      "Using Bioconductor 3.4 (BiocInstaller 1.24.0), R 3.3.1 (2016-06-21).\n",
      "Installing package(s) ‘biomaRt’\n",
      "also installing the dependencies ‘BiocGenerics’, ‘Biobase’, ‘IRanges’, ‘S4Vectors’, ‘XML’, ‘AnnotationDbi’\n",
      "\n",
      "Updating HTML index of packages in '.Library'\n",
      "Making 'packages.html' ... done\n",
      "Old packages: 'assertthat', 'BH', 'boot', 'car', 'caret', 'cluster',\n",
      "  'codetools', 'colorspace', 'crayon', 'curl', 'DBI', 'devtools', 'digest',\n",
      "  'dplyr', 'evaluate', 'forecast', 'foreign', 'formatR', 'ggplot2', 'git2r',\n",
      "  'htmltools', 'httpuv', 'httr', 'IRdisplay', 'jsonlite', 'knitr', 'lattice',\n",
      "  'lme4', 'markdown', 'MASS', 'Matrix', 'memoise', 'mgcv', 'mime', 'nlme',\n",
      "  'nycflights13', 'openssl', 'pbdZMQ', 'pbkrtest', 'quantreg', 'R6', 'Rcpp',\n",
      "  'RcppArmadillo', 'RcppEigen', 'repr', 'reshape2', 'rmarkdown', 'rpart',\n",
      "  'RSQLite', 'rstudioapi', 'scales', 'shiny', 'SparseM', 'stringi', 'stringr',\n",
      "  'survival', 'tibble', 'tidyr', 'tseries', 'withr', 'yaml', 'zoo'\n"
     ]
    }
   ],
   "source": [
    "source(\"http://bioconductor.org/biocLite.R\")\n",
    "biocLite(\"biomaRt\")\n",
    "library(biomaRt)"
   ]
  },
  {
   "cell_type": "markdown",
   "metadata": {},
   "source": [
    "This function assumes that ensembl IDs are in rownames of data matrix. Duplicate rows with same gene symbol are removed by leaving the one with the most counts."
   ]
  },
  {
   "cell_type": "code",
   "execution_count": 9,
   "metadata": {
    "collapsed": false
   },
   "outputs": [],
   "source": [
    "ensembl_id_to_gene_symbol <- function(data) {\n",
    "    ensembl <- useMart(\"ensembl\", dataset = \"hsapiens_gene_ensembl\")\n",
    "    genes <- getBM(attributes = c(\"ensembl_gene_id\", \"external_gene_name\"),\n",
    "                  filters = \"ensembl_gene_id\",\n",
    "                  values = rownames(data),\n",
    "                  mart = ensembl)\n",
    "    data <- data[rownames(data)%in%genes[,1],]\n",
    "    data <- data[order(rowSums(data), decreasing = T),]\n",
    "    genes <- genes[match(rownames(data), genes[,1]),]\n",
    "    dupl <- duplicated(genes[,2])\n",
    "    data <- data[!dupl,]\n",
    "    genes <- genes[!dupl,]\n",
    "    rownames(data) <- genes[,2]\n",
    "    return(data)\n",
    "}"
   ]
  },
  {
   "cell_type": "markdown",
   "metadata": {},
   "source": [
    "From _geneCounts_ move ensembl IDs from 1st column to rownames."
   ]
  },
  {
   "cell_type": "code",
   "execution_count": 10,
   "metadata": {
    "collapsed": false
   },
   "outputs": [
    {
     "data": {
      "text/html": [
       "<table>\n",
       "<thead><tr><th></th><th scope=col>X11344_TCX</th><th scope=col>X11316_TCX</th><th scope=col>X11431_TCX</th><th scope=col>X11341_TCX</th><th scope=col>X11289_TCX</th></tr></thead>\n",
       "<tbody>\n",
       "\t<tr><th scope=row>ENSG00000000003</th><td>428</td><td>498</td><td>652</td><td>645</td><td>336</td></tr>\n",
       "\t<tr><th scope=row>ENSG00000000005</th><td>5</td><td>2</td><td>5</td><td>8</td><td>3</td></tr>\n",
       "\t<tr><th scope=row>ENSG00000000419</th><td> 921</td><td> 574</td><td> 844</td><td>1105</td><td> 543</td></tr>\n",
       "\t<tr><th scope=row>ENSG00000000457</th><td>435</td><td>237</td><td>437</td><td>608</td><td>228</td></tr>\n",
       "\t<tr><th scope=row>ENSG00000000460</th><td>275</td><td>212</td><td>273</td><td>391</td><td>182</td></tr>\n",
       "</tbody>\n",
       "</table>\n"
      ],
      "text/latex": [
       "\\begin{tabular}{r|lllll}\n",
       "  & X11344\\_TCX & X11316\\_TCX & X11431\\_TCX & X11341\\_TCX & X11289\\_TCX\\\\\n",
       "\\hline\n",
       "\tENSG00000000003 & 428 & 498 & 652 & 645 & 336\\\\\n",
       "\tENSG00000000005 & 5 & 2 & 5 & 8 & 3\\\\\n",
       "\tENSG00000000419 &  921 &  574 &  844 & 1105 &  543\\\\\n",
       "\tENSG00000000457 & 435 & 237 & 437 & 608 & 228\\\\\n",
       "\tENSG00000000460 & 275 & 212 & 273 & 391 & 182\\\\\n",
       "\\end{tabular}\n"
      ],
      "text/plain": [
       "                X11344_TCX X11316_TCX X11431_TCX X11341_TCX X11289_TCX\n",
       "ENSG00000000003        428        498        652        645        336\n",
       "ENSG00000000005          5          2          5          8          3\n",
       "ENSG00000000419        921        574        844       1105        543\n",
       "ENSG00000000457        435        237        437        608        228\n",
       "ENSG00000000460        275        212        273        391        182"
      ]
     },
     "metadata": {},
     "output_type": "display_data"
    }
   ],
   "source": [
    "rownames(geneCounts) <- geneCounts[,1]\n",
    "geneCounts <- geneCounts[,-1]\n",
    "geneCounts[1:5,1:5]"
   ]
  },
  {
   "cell_type": "markdown",
   "metadata": {},
   "source": [
    "Now convert ensembl IDs to symbols"
   ]
  },
  {
   "cell_type": "code",
   "execution_count": 11,
   "metadata": {
    "collapsed": false
   },
   "outputs": [
    {
     "data": {
      "text/html": [
       "<table>\n",
       "<thead><tr><th></th><th scope=col>X11344_TCX</th><th scope=col>X11316_TCX</th><th scope=col>X11431_TCX</th><th scope=col>X11341_TCX</th><th scope=col>X11289_TCX</th></tr></thead>\n",
       "<tbody>\n",
       "\t<tr><th scope=row>MT-RNR2</th><td> 665988</td><td>2912021</td><td>2402275</td><td>1392906</td><td>3015849</td></tr>\n",
       "\t<tr><th scope=row>MT-CO1</th><td> 551625</td><td>2346291</td><td>1885506</td><td> 854313</td><td>2038025</td></tr>\n",
       "\t<tr><th scope=row>MT-ND4</th><td> 278304</td><td> 929240</td><td>1111879</td><td> 485938</td><td>1087501</td></tr>\n",
       "\t<tr><th scope=row>MT-CO3</th><td> 222925</td><td> 727335</td><td> 862345</td><td> 334136</td><td>1004325</td></tr>\n",
       "\t<tr><th scope=row>MT-RNR1</th><td>179218</td><td>445659</td><td>510768</td><td>505585</td><td>858833</td></tr>\n",
       "</tbody>\n",
       "</table>\n"
      ],
      "text/latex": [
       "\\begin{tabular}{r|lllll}\n",
       "  & X11344\\_TCX & X11316\\_TCX & X11431\\_TCX & X11341\\_TCX & X11289\\_TCX\\\\\n",
       "\\hline\n",
       "\tMT-RNR2 &  665988 & 2912021 & 2402275 & 1392906 & 3015849\\\\\n",
       "\tMT-CO1 &  551625 & 2346291 & 1885506 &  854313 & 2038025\\\\\n",
       "\tMT-ND4 &  278304 &  929240 & 1111879 &  485938 & 1087501\\\\\n",
       "\tMT-CO3 &  222925 &  727335 &  862345 &  334136 & 1004325\\\\\n",
       "\tMT-RNR1 & 179218 & 445659 & 510768 & 505585 & 858833\\\\\n",
       "\\end{tabular}\n"
      ],
      "text/plain": [
       "        X11344_TCX X11316_TCX X11431_TCX X11341_TCX X11289_TCX\n",
       "MT-RNR2     665988    2912021    2402275    1392906    3015849\n",
       "MT-CO1      551625    2346291    1885506     854313    2038025\n",
       "MT-ND4      278304     929240    1111879     485938    1087501\n",
       "MT-CO3      222925     727335     862345     334136    1004325\n",
       "MT-RNR1     179218     445659     510768     505585     858833"
      ]
     },
     "metadata": {},
     "output_type": "display_data"
    }
   ],
   "source": [
    "geneCounts <- ensembl_id_to_gene_symbol(geneCounts)\n",
    "geneCounts[1:5,1:5]"
   ]
  }
 ],
 "metadata": {
  "kernelspec": {
   "display_name": "R",
   "language": "R",
   "name": "ir"
  },
  "language_info": {
   "codemirror_mode": "r",
   "file_extension": ".r",
   "mimetype": "text/x-r-source",
   "name": "R",
   "pygments_lexer": "r",
   "version": "3.3.1"
  }
 },
 "nbformat": 4,
 "nbformat_minor": 1
}
