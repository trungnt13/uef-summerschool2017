{
 "cells": [
  {
   "cell_type": "markdown",
   "metadata": {
    "collapsed": true,
    "deletable": true,
    "editable": true
   },
   "source": [
    "<h1><center>Back-end / Classification</center></h1>"
   ]
  },
  {
   "cell_type": "markdown",
   "metadata": {
    "deletable": true,
    "editable": true
   },
   "source": [
    "# Data preparation\n",
    "\n",
    "For improvement:\n",
    "- 10-fold cross validation"
   ]
  },
  {
   "cell_type": "code",
   "execution_count": 1,
   "metadata": {
    "collapsed": true,
    "deletable": true,
    "editable": true
   },
   "outputs": [],
   "source": [
    "import numpy as np"
   ]
  },
  {
   "cell_type": "code",
   "execution_count": 2,
   "metadata": {
    "collapsed": true,
    "deletable": true,
    "editable": true
   },
   "outputs": [],
   "source": [
    "# Paths\n",
    "FEATURE_PATH = 'front-end/features.npy'\n",
    "LABEL_PATH = 'front-end/labels.npy'"
   ]
  },
  {
   "cell_type": "code",
   "execution_count": 3,
   "metadata": {
    "collapsed": false,
    "deletable": true,
    "editable": true
   },
   "outputs": [],
   "source": [
    "# Load features and labels\n",
    "features, labels = np.load(FEATURE_PATH), np.load(LABEL_PATH)"
   ]
  },
  {
   "cell_type": "code",
   "execution_count": 4,
   "metadata": {
    "collapsed": false,
    "deletable": true,
    "editable": true
   },
   "outputs": [],
   "source": [
    "##################################################\n",
    "#           Auxiliary functions                  #\n",
    "##################################################\n",
    "\n",
    "def split_data(data, labels, pc=0.7):\n",
    "    \"\"\"\n",
    "    Split data into three portion: training, validation, test\n",
    "    \n",
    "    Parameters:\n",
    "        data: 2D numpy array\n",
    "        labels: 1D numpy array\n",
    "        pc: percentage of training data, spliting done as pc% training, (1-pc)/2% validation and (1-pc)/2% test\n",
    "    \"\"\"\n",
    "    # Preconditions\n",
    "    if len(data) != len(labels):\n",
    "        raise ValueError(\"data and labels lengths has to be equal\")\n",
    "    if not isinstance(pc, float) or pc >= 1 or pc <= 0:\n",
    "        raise ValueError(\"invalid percentage for training data\")\n",
    "    \n",
    "    # Calculate cumulative percentage, to be used for np.split function\n",
    "    #    np.cumsum([0.7, 0.15]) returns [0.7, 0.85]\n",
    "    cumulative_pc = np.cumsum([pc,(1 - pc) / 2], dtype=float)\n",
    "    \n",
    "    # Permutate indices and split indices array into three sub-arrays\n",
    "    #    len(data) * cumulative_pc returns [350.7, 425.85]\n",
    "    #    np.split(indices, [350.7, 425.85]) returns [indices[:350], indices[350:425], indices[425:]]\n",
    "    indices = np.split(np.random.permutation(len(data)), list(map(int, len(data) * cumulative_pc)))\n",
    "    \n",
    "    # Return training, validation and test data as a tuple\n",
    "    return (# training data & labels\n",
    "            data[indices[0]], labels[indices[0]],\n",
    "            # validation data & labels\n",
    "            data[indices[1]], labels[indices[1]],\n",
    "            # test data & labels\n",
    "            data[indices[2]], labels[indices[2]]) "
   ]
  },
  {
   "cell_type": "code",
   "execution_count": 5,
   "metadata": {
    "collapsed": false,
    "deletable": true,
    "editable": true,
    "scrolled": false
   },
   "outputs": [],
   "source": [
    "# Split data\n",
    "data = split_data(features, labels)\n",
    "train_data, train_label = data[0], data[1]\n",
    "val_data, val_label = data[2], data[3],\n",
    "test_data, test_label = data[4], data[5]"
   ]
  },
  {
   "cell_type": "code",
   "execution_count": 6,
   "metadata": {
    "collapsed": false,
    "deletable": true,
    "editable": true
   },
   "outputs": [
    {
     "name": "stdout",
     "output_type": "stream",
     "text": [
      "Training data/label size:  350 \n",
      "Validation data/label size:  75 \n",
      "Test data/label size:  76\n"
     ]
    }
   ],
   "source": [
    "# Print statistics about data\n",
    "print(\"Training data/label size: \", len(train_data), \\\n",
    "        \"\\nValidation data/label size: \", len(val_data), \\\n",
    "        \"\\nTest data/label size: \", len(test_data))"
   ]
  },
  {
   "cell_type": "markdown",
   "metadata": {
    "deletable": true,
    "editable": true
   },
   "source": [
    "# Setting up the model"
   ]
  },
  {
   "cell_type": "code",
   "execution_count": 7,
   "metadata": {
    "collapsed": false,
    "deletable": true,
    "editable": true
   },
   "outputs": [],
   "source": [
    "import tensorflow as tf\n",
    "from sklearn.metrics import (accuracy_score, confusion_matrix, precision_recall_fscore_support)\n",
    "import matplotlib.pyplot as plt\n",
    "\n",
    "%matplotlib inline\n",
    "\n",
    "# Matplotlib styling\n",
    "plt.style.use('ggplot')\n",
    "\n",
    "plt.rcParams['font.family'] = 'serif'\n",
    "plt.rcParams['font.serif'] = 'Ubuntu'\n",
    "plt.rcParams['font.monospace'] = 'Ubuntu Mono'"
   ]
  },
  {
   "cell_type": "code",
   "execution_count": 8,
   "metadata": {
    "collapsed": true,
    "deletable": true,
    "editable": true
   },
   "outputs": [],
   "source": [
    "# Parameters\n",
    "n_epochs = 500\n",
    "n_dim = train_data.shape[1]\n",
    "n_classes = 10\n",
    "n_hidden_units_one = 280 \n",
    "n_hidden_units_two = 300\n",
    "sd = 1 / np.sqrt(n_dim)\n",
    "learning_rate = 0.01"
   ]
  },
  {
   "cell_type": "code",
   "execution_count": 9,
   "metadata": {
    "collapsed": false,
    "deletable": true,
    "editable": true
   },
   "outputs": [
    {
     "name": "stdout",
     "output_type": "stream",
     "text": [
      "WARNING:tensorflow:From c:\\python35\\lib\\site-packages\\tensorflow\\python\\util\\tf_should_use.py:170: initialize_all_variables (from tensorflow.python.ops.variables) is deprecated and will be removed after 2017-03-02.\n",
      "Instructions for updating:\n",
      "Use `tf.global_variables_initializer` instead.\n"
     ]
    }
   ],
   "source": [
    "# ===== Tensorflow Network ======\n",
    "# input and output\n",
    "X = tf.placeholder(tf.float32,[None,n_dim])\n",
    "y = tf.placeholder(tf.float32,[None,n_classes])\n",
    "\n",
    "# Feed forward / dense layer\n",
    "W_1 = tf.Variable(tf.random_normal([n_dim,n_hidden_units_one], mean = 0, stddev=sd))\n",
    "b_1 = tf.Variable(tf.random_normal([n_hidden_units_one], mean = 0, stddev=sd))\n",
    "h_1 = tf.nn.tanh(tf.matmul(X,W_1) + b_1)\n",
    "\n",
    "# Feed forward / dense layer\n",
    "W_2 = tf.Variable(tf.random_normal([n_hidden_units_one,n_hidden_units_two], mean = 0, stddev=sd))\n",
    "b_2 = tf.Variable(tf.random_normal([n_hidden_units_two], mean = 0, stddev=sd))\n",
    "h_2 = tf.nn.sigmoid(tf.matmul(h_1,W_2) + b_2)\n",
    "\n",
    "# Output layer\n",
    "W = tf.Variable(tf.random_normal([n_hidden_units_two,n_classes], mean = 0, stddev=sd))\n",
    "b = tf.Variable(tf.random_normal([n_classes], mean = 0, stddev=sd))\n",
    "y_ = tf.nn.softmax(tf.matmul(h_2,W) + b)\n",
    "\n",
    "init = tf.initialize_all_variables()"
   ]
  },
  {
   "cell_type": "code",
   "execution_count": 10,
   "metadata": {
    "collapsed": false,
    "deletable": true,
    "editable": true
   },
   "outputs": [],
   "source": [
    "# \n",
    "cost_function = tf.reduce_mean(-tf.reduce_sum(y * tf.log(y_), reduction_indices=[1])) \n",
    "optimizer = tf.train.GradientDescentOptimizer(learning_rate).minimize(cost_function)\n",
    "\n",
    "correct_prediction = tf.equal(tf.argmax(y_,1), tf.argmax(y,1))\n",
    "accuracy = tf.reduce_mean(tf.cast(correct_prediction, tf.float32))"
   ]
  },
  {
   "cell_type": "code",
   "execution_count": 11,
   "metadata": {
    "collapsed": false,
    "deletable": true,
    "editable": true
   },
   "outputs": [],
   "source": [
    "cost_history = np.empty(shape=[1],dtype=float)\n",
    "y_true, y_pred = None, None\n",
    "with tf.Session() as sess:\n",
    "    sess.run(init)\n",
    "    for epoch in range(n_epochs):            \n",
    "        _,cost = sess.run([optimizer,cost_function],feed_dict={X:train_data,y:train_label})\n",
    "        cost_history = np.append(cost_history,cost)\n",
    "    \n",
    "    y_pred = sess.run(tf.argmax(y_,1),feed_dict={X: test_data})\n",
    "    y_true = sess.run(tf.argmax(test_label,1))"
   ]
  },
  {
   "cell_type": "code",
   "execution_count": 12,
   "metadata": {
    "collapsed": false,
    "deletable": true,
    "editable": true
   },
   "outputs": [
    {
     "name": "stderr",
     "output_type": "stream",
     "text": [
      "c:\\python35\\lib\\site-packages\\matplotlib\\font_manager.py:1288: UserWarning: findfont: Font family ['serif'] not found. Falling back to Bitstream Vera Sans\n",
      "  (prop.get_family(), self.defaultFamily[fontext]))\n"
     ]
    },
    {
     "data": {
      "image/png": "[encoded data removed]",
      "text/plain": [
       "<matplotlib.figure.Figure at 0x237a43e7c50>"
      ]
     },
     "metadata": {},
     "output_type": "display_data"
    },
    {
     "name": "stdout",
     "output_type": "stream",
     "text": [
      "Precision: 0.987000\n",
      "Recall: 0.987000\n",
      "F-Score: 0.987000\n"
     ]
    }
   ],
   "source": [
    "fig = plt.figure(figsize=(10,8))\n",
    "plt.plot(cost_history)\n",
    "plt.ylabel(\"Cost\")\n",
    "plt.xlabel(\"Iterations\")\n",
    "plt.axis([0,n_epochs,0,np.max(cost_history)])\n",
    "plt.show()\n",
    "\n",
    "accuracy_score, confusion_matrix, \n",
    "\n",
    "p,r,f,s = precision_recall_fscore_support(y_true, y_pred, average='micro')\n",
    "print(\"Precision: %f\" % round(p,3))\n",
    "print(\"Recall: %f\" % round(r,3))\n",
    "print(\"F-Score: %f\" % round(f,3))"
   ]
  },
  {
   "cell_type": "code",
   "execution_count": null,
   "metadata": {
    "collapsed": true,
    "deletable": true,
    "editable": true
   },
   "outputs": [],
   "source": []
  }
 ],
 "metadata": {
  "kernelspec": {
   "display_name": "Python 3",
   "language": "python",
   "name": "python3"
  },
  "language_info": {
   "codemirror_mode": {
    "name": "ipython",
    "version": 3
   },
   "file_extension": ".py",
   "mimetype": "text/x-python",
   "name": "python",
   "nbconvert_exporter": "python",
   "pygments_lexer": "ipython3",
   "version": "3.5.2"
  }
 },
 "nbformat": 4,
 "nbformat_minor": 2
}
