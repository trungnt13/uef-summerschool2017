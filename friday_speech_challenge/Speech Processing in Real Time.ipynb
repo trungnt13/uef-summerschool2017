{
 "cells": [
  {
   "cell_type": "markdown",
   "metadata": {
    "deletable": true,
    "editable": true
   },
   "source": [
    "# Real Time Speech Processing"
   ]
  },
  {
   "cell_type": "markdown",
   "metadata": {
    "deletable": true,
    "editable": true
   },
   "source": [
    "## Libraries\n",
    "### Python\n",
    "-  librosa (ISC / MIT licensed)\n",
    "-  pyaudio (MIT licensed)\n",
    "    - portaudio"
   ]
  },
  {
   "cell_type": "code",
   "execution_count": 1,
   "metadata": {
    "collapsed": false,
    "deletable": true,
    "editable": true
   },
   "outputs": [],
   "source": [
    "import pyaudio\n",
    "import threading\n",
    "import atexit\n",
    "import numpy as np"
   ]
  },
  {
   "cell_type": "code",
   "execution_count": 2,
   "metadata": {
    "collapsed": true,
    "deletable": true,
    "editable": true
   },
   "outputs": [],
   "source": [
    "class MicrophoneRecorder(object):\n",
    "    def __init__(self, rate=4000, chunksize=1024):\n",
    "        self.rate = rate\n",
    "        self.chunksize = chunksize\n",
    "        self.p = pyaudio.PyAudio()\n",
    "        self.stream = self.p.open(format=pyaudio.paInt16,\n",
    "                                  channels=1,\n",
    "                                  rate=self.rate,\n",
    "                                  input=True,\n",
    "                                  frames_per_buffer=self.chunksize,\n",
    "                                  stream_callback=self.new_frame)\n",
    "        self.lock = threading.Lock()\n",
    "        self.stop = False\n",
    "        self.frames = []\n",
    "        atexit.register(self.close)\n",
    "\n",
    "    def new_frame(self, data, frame_count, time_info, status):\n",
    "        data = np.fromstring(data, 'int16')\n",
    "        with self.lock:\n",
    "            self.frames.append(data)\n",
    "            if self.stop:\n",
    "                return None, pyaudio.paComplete\n",
    "        return None, pyaudio.paContinue\n",
    "    \n",
    "    def get_frames(self):\n",
    "        with self.lock:\n",
    "            frames = self.frames\n",
    "            self.frames = []\n",
    "            return frames\n",
    "    \n",
    "    def start(self):\n",
    "        self.stream.start_stream()\n",
    "\n",
    "    def close(self):\n",
    "        with self.lock:\n",
    "            self.stop = True\n",
    "        self.stream.close()\n",
    "        self.p.terminate()"
   ]
  },
  {
   "cell_type": "code",
   "execution_count": 3,
   "metadata": {
    "collapsed": false,
    "deletable": true,
    "editable": true
   },
   "outputs": [
    {
     "name": "stderr",
     "output_type": "stream",
     "text": [
      "//anaconda/envs/tensorflow/lib/python2.7/site-packages/matplotlib/font_manager.py:273: UserWarning: Matplotlib is building the font cache using fc-list. This may take a moment.\n",
      "  warnings.warn('Matplotlib is building the font cache using fc-list. This may take a moment.')\n"
     ]
    }
   ],
   "source": [
    "from matplotlib.backends.backend_qt4agg import FigureCanvasQTAgg as FigureCanvas\n",
    "from matplotlib.backends.backend_qt4agg import NavigationToolbar2QT as NavigationToolbar\n",
    "import matplotlib.pyplot as plt\n",
    "\n",
    "class MplFigure(object):\n",
    "    def __init__(self, parent):\n",
    "        self.figure = plt.figure(facecolor='white')\n",
    "        self.canvas = FigureCanvas(self.figure)\n",
    "        self.toolbar = NavigationToolbar(self.canvas, parent)"
   ]
  },
  {
   "cell_type": "code",
   "execution_count": 4,
   "metadata": {
    "collapsed": false,
    "deletable": true,
    "editable": true
   },
   "outputs": [],
   "source": [
    "import numpy as np\n",
    "import matplotlib.pyplot as plt\n",
    "from PyQt4 import QtGui, QtCore\n",
    "\n",
    "class LiveFFTWidget(QtGui.QWidget):\n",
    "    def __init__(self):\n",
    "        QtGui.QWidget.__init__(self)\n",
    "        \n",
    "        # customize the UI\n",
    "        self.initUI()\n",
    "        \n",
    "        # init class data\n",
    "        self.initData()       \n",
    "        \n",
    "        # connect slots\n",
    "        self.connectSlots()\n",
    "        \n",
    "        # init MPL widget\n",
    "        self.initMplWidget()\n",
    "        \n",
    "    def initUI(self):\n",
    "\n",
    "        hbox_gain = QtGui.QHBoxLayout()\n",
    "        autoGain = QtGui.QLabel('Auto gain for frequency spectrum')\n",
    "        autoGainCheckBox = QtGui.QCheckBox(checked=True)\n",
    "        hbox_gain.addWidget(autoGain)\n",
    "        hbox_gain.addWidget(autoGainCheckBox)\n",
    "        \n",
    "        # reference to checkbox\n",
    "        self.autoGainCheckBox = autoGainCheckBox\n",
    "        \n",
    "        hbox_fixedGain = QtGui.QHBoxLayout()\n",
    "        fixedGain = QtGui.QLabel('Manual gain level for frequency spectrum')\n",
    "        fixedGainSlider = QtGui.QSlider(QtCore.Qt.Horizontal)\n",
    "        hbox_fixedGain.addWidget(fixedGain)\n",
    "        hbox_fixedGain.addWidget(fixedGainSlider)\n",
    "\n",
    "        self.fixedGainSlider = fixedGainSlider\n",
    "\n",
    "        vbox = QtGui.QVBoxLayout()\n",
    "\n",
    "        vbox.addLayout(hbox_gain)\n",
    "        vbox.addLayout(hbox_fixedGain)\n",
    "\n",
    "        # mpl figure\n",
    "        self.main_figure = MplFigure(self)\n",
    "        vbox.addWidget(self.main_figure.toolbar)\n",
    "        vbox.addWidget(self.main_figure.canvas)\n",
    "        \n",
    "        self.setLayout(vbox) \n",
    "        \n",
    "        self.setGeometry(300, 300, 350, 300)\n",
    "        self.setWindowTitle('LiveFFT')    \n",
    "        self.show()\n",
    "        # timer for callbacks, taken from:\n",
    "        # http://ralsina.me/weblog/posts/BB974.html\n",
    "        timer = QtCore.QTimer()\n",
    "        timer.timeout.connect(self.handleNewData)\n",
    "        timer.start(100)\n",
    "        # keep reference to timer        \n",
    "        self.timer = timer\n",
    "        \n",
    "     \n",
    "    def initData(self):\n",
    "        mic = MicrophoneRecorder()\n",
    "        mic.start()  \n",
    "\n",
    "        # keeps reference to mic        \n",
    "        self.mic = mic\n",
    "        \n",
    "        # computes the parameters that will be used during plotting\n",
    "        self.freq_vect = np.fft.rfftfreq(mic.chunksize, \n",
    "                                         1./mic.rate)\n",
    "        self.time_vect = np.arange(mic.chunksize, dtype=np.float32) / mic.rate * 1000\n",
    "                \n",
    "    def connectSlots(self):\n",
    "        pass\n",
    "    \n",
    "    def initMplWidget(self):\n",
    "        \"\"\"creates initial matplotlib plots in the main window and keeps \n",
    "        references for further use\"\"\"\n",
    "        # top plot\n",
    "        self.ax_top = self.main_figure.figure.add_subplot(211)\n",
    "        self.ax_top.set_ylim(-32768, 32768)\n",
    "        self.ax_top.set_xlim(0, self.time_vect.max())\n",
    "        self.ax_top.set_xlabel(u'time (ms)', fontsize=6)\n",
    "\n",
    "        # bottom plot\n",
    "        self.ax_bottom = self.main_figure.figure.add_subplot(212)\n",
    "        self.ax_bottom.set_ylim(0, 1)\n",
    "        self.ax_bottom.set_xlim(0, self.freq_vect.max())\n",
    "        self.ax_bottom.set_xlabel(u'frequency (Hz)', fontsize=6)\n",
    "        # line objects        \n",
    "        self.line_top, = self.ax_top.plot(self.time_vect, \n",
    "                                         np.ones_like(self.time_vect))\n",
    "        \n",
    "        self.line_bottom, = self.ax_bottom.plot(self.freq_vect,\n",
    "                                               np.ones_like(self.freq_vect))\n",
    "                                               \n",
    "\n",
    "                                               \n",
    "    def handleNewData(self):\n",
    "        \"\"\" handles the asynchroneously collected sound chunks \"\"\"        \n",
    "        # gets the latest frames        \n",
    "        frames = self.mic.get_frames()\n",
    "        \n",
    "        if len(frames) > 0:\n",
    "            # keeps only the last frame\n",
    "            current_frame = frames[-1]\n",
    "            # plots the time signal\n",
    "            self.line_top.set_data(self.time_vect, current_frame)\n",
    "            # computes and plots the fft signal            \n",
    "            fft_frame = np.fft.rfft(current_frame)\n",
    "            if self.autoGainCheckBox.checkState() == QtCore.Qt.Checked:\n",
    "                fft_frame /= np.abs(fft_frame).max()\n",
    "            else:\n",
    "                fft_frame *= (1 + self.fixedGainSlider.value()) / 5000000.\n",
    "                #print(np.abs(fft_frame).max())\n",
    "            self.line_bottom.set_data(self.freq_vect, np.abs(fft_frame))            \n",
    "            \n",
    "            # refreshes the plots\n",
    "            self.main_figure.canvas.draw()"
   ]
  },
  {
   "cell_type": "code",
   "execution_count": 5,
   "metadata": {
    "collapsed": false,
    "deletable": true,
    "editable": true
   },
   "outputs": [],
   "source": [
    "import sys"
   ]
  },
  {
   "cell_type": "code",
   "execution_count": 6,
   "metadata": {
    "collapsed": true,
    "deletable": true,
    "editable": true
   },
   "outputs": [],
   "source": [
    "app = QtGui.QApplication(sys.argv) "
   ]
  },
  {
   "cell_type": "code",
   "execution_count": 7,
   "metadata": {
    "collapsed": true,
    "deletable": true,
    "editable": true
   },
   "outputs": [],
   "source": [
    "window = LiveFFTWidget() \n"
   ]
  },
  {
   "cell_type": "code",
   "execution_count": 8,
   "metadata": {
    "collapsed": false,
    "deletable": true,
    "editable": true
   },
   "outputs": [
    {
     "ename": "SystemExit",
     "evalue": "0",
     "output_type": "error",
     "traceback": [
      "An exception has occurred, use %tb to see the full traceback.\n",
      "\u001b[0;31mSystemExit\u001b[0m\u001b[0;31m:\u001b[0m 0\n"
     ]
    },
    {
     "name": "stderr",
     "output_type": "stream",
     "text": [
      "//anaconda/envs/tensorflow/lib/python2.7/site-packages/IPython/core/interactiveshell.py:2889: UserWarning: To exit: use 'exit', 'quit', or Ctrl-D.\n",
      "  warn(\"To exit: use 'exit', 'quit', or Ctrl-D.\", stacklevel=1)\n"
     ]
    }
   ],
   "source": [
    "sys.exit(app.exec_())"
   ]
  },
  {
   "cell_type": "code",
   "execution_count": null,
   "metadata": {
    "collapsed": true,
    "deletable": true,
    "editable": true
   },
   "outputs": [],
   "source": []
  }
 ],
 "metadata": {
  "kernelspec": {
   "display_name": "Python 3",
   "language": "python",
   "name": "python3"
  },
  "language_info": {
   "codemirror_mode": {
    "name": "ipython",
    "version": 3
   },
   "file_extension": ".py",
   "mimetype": "text/x-python",
   "name": "python",
   "nbconvert_exporter": "python",
   "pygments_lexer": "ipython3",
   "version": "3.5.2"
  }
 },
 "nbformat": 4,
 "nbformat_minor": 2
}
